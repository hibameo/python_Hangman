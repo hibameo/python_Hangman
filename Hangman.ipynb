{
  "nbformat": 4,
  "nbformat_minor": 0,
  "metadata": {
    "colab": {
      "provenance": [],
      "authorship_tag": "ABX9TyMgpkcrR64XPVhLIYBn3C5H",
      "include_colab_link": true
    },
    "kernelspec": {
      "name": "python3",
      "display_name": "Python 3"
    },
    "language_info": {
      "name": "python"
    }
  },
  "cells": [
    {
      "cell_type": "markdown",
      "metadata": {
        "id": "view-in-github",
        "colab_type": "text"
      },
      "source": [
        "<a href=\"https://colab.research.google.com/github/hibameo/python_Hangman/blob/main/Hangman.ipynb\" target=\"_parent\"><img src=\"https://colab.research.google.com/assets/colab-badge.svg\" alt=\"Open In Colab\"/></a>"
      ]
    },
    {
      "cell_type": "code",
      "execution_count": null,
      "metadata": {
        "id": "9NVzBpA3or_-"
      },
      "outputs": [],
      "source": [
        "import random\n",
        "\n",
        "def choose_word():\n",
        "    words = ['python', 'hangman', 'developer', 'programming', 'challenge']\n",
        "    return random.choice(words)\n",
        "\n",
        "def display_word(word, guessed_letters):\n",
        "    return ' '.join([letter if letter in guessed_letters else '_' for letter in word])\n",
        "\n",
        "def hangman():\n",
        "    print(\"Welcome to Hangman!\")\n",
        "\n",
        "    word_to_guess = choose_word()\n",
        "    guessed_letters = set()\n",
        "    attempts = 6  # Number of incorrect guesses allowed\n",
        "\n",
        "    while attempts > 0:\n",
        "        print(\"\\nWord:\", display_word(word_to_guess, guessed_letters))\n",
        "        print(f\"Remaining attempts: {attempts}\")\n",
        "        print(f\"Guessed letters: {', '.join(guessed_letters) if guessed_letters else 'None'}\")\n",
        "\n",
        "        guess = input(\"Guess a letter: \").lower()\n",
        "\n",
        "        if len(guess) != 1 or not guess.isalpha():\n",
        "            print(\"Invalid input. Please guess a single letter.\")\n",
        "            continue\n",
        "\n",
        "        if guess in guessed_letters:\n",
        "            print(\"You already guessed that letter!\")\n",
        "            continue\n",
        "\n",
        "        guessed_letters.add(guess)\n",
        "\n",
        "        if guess in word_to_guess:\n",
        "            print(\"Good job! That letter is in the word.\")\n",
        "        else:\n",
        "            print(\"Oops! That letter is not in the word.\")\n",
        "            attempts -= 1\n",
        "\n",
        "        if set(word_to_guess).issubset(guessed_letters):\n",
        "            print(\"\\nCongratulations! You guessed the word:\", word_to_guess)\n",
        "            break\n",
        "    else:\n",
        "        print(\"\\nGame over! The word was:\", word_to_guess)\n",
        "\n",
        "# Start the game\n",
        "hangman()"
      ]
    }
  ]
}